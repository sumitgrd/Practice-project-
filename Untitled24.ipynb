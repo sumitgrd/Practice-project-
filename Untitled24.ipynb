{
 "cells": [
  {
   "cell_type": "markdown",
   "id": "716ba7bb",
   "metadata": {},
   "source": [
    "# World Happiness Report Project"
   ]
  },
  {
   "cell_type": "markdown",
   "id": "1c93dc2d",
   "metadata": {},
   "source": [
    "1 Project Description\n",
    "The World Happiness Report is a landmark survey of the state of global happiness. The first report was published in 2012, the second in 2013, the third in 2015, and the fourth in the 2016 Update. The World Happiness 2017, which ranks 155 countries by their happiness levels, was released at the United Nations at an event celebrating International Day of Happiness on March 20th. The report continues to gain global recognition as governments, organizations and civil society increasingly use happiness indicators to inform their policy-making decisions. Leading experts across fields – economics, psychology, survey analysis, national statistics, health, public policy and more – describe how measurements of well-being can be used effectively to assess the progress of nations. The reports review the state of happiness in the world today and show how the new science of happiness explains personal and national variations in happiness.\n",
    "\n",
    "What is Dystopia?\n",
    "Dystopia is an imaginary country that has the world’s least-happy people. The purpose in establishing Dystopia is to have a benchmark against which all countries can be favorably compared (no country performs more poorly than Dystopia) in terms of each of the six key variables, thus allowing each sub-bar to be of positive width. The lowest scores observed for the six key variables, therefore, characterize Dystopia. Since life would be very unpleasant in a country with the world’s lowest incomes, lowest life expectancy, lowest generosity, most corruption, least freedom and least social support, it is referred to as “Dystopia,” in contrast to Utopia.\n",
    "\n",
    "What are the residuals?\n",
    "The residuals, or unexplained components, differ for each country, reflecting the extent to which the six variables either over- or under-explain average life evaluations. These residuals have an average value of approximately zero over the whole set of countries. \n",
    "\n",
    "What do the columns succeeding the Happiness Score(like Family, Generosity, etc.) describe?\n",
    "The following columns: GDP per Capita, Family, Life Expectancy, Freedom, Generosity, Trust Government Corruption describe the extent to which these factors contribute in evaluating the happiness in each country.\n",
    "The Dystopia Residual metric actually is the Dystopia Happiness Score(1.85) + the Residual value or the unexplained value for each country.\n",
    "The Dystopia Residual is already provided in the dataset. \n",
    "If you add all these factors up, you get the happiness score so it might be un-reliable to model them to predict Happiness Scores.\n",
    "You need to predict the happiness score considering all the other factors mentioned in the dataset.\n",
    "Dataset Link-\n",
    "https://github.com/FlipRoboTechnologies/ML-Datasets/blob/main/World%20Happiness/happiness_score_dataset.csv\n"
   ]
  },
  {
   "cell_type": "code",
   "execution_count": null,
   "id": "8ada325d",
   "metadata": {},
   "outputs": [],
   "source": [
    "#We will load necessary libraries\n",
    "import numpy as np\n",
    "import pandas as pd\n",
    "import matplotlib.pyplot as plt\n",
    "%matplotlib inline\n",
    "import random\n",
    "import seaborn as sns\n",
    "\n",
    "from pandas.plotting import scatter_matrix\n",
    "from pandas.tools.plotting import scatter_matrix\n",
    "\n",
    "#!pip install plotly\n",
    "\n",
    "import plotly \n",
    "plotly.tools.set_credentials_file(username='meryemdikmen', api_key='HkPHBVsn5LcaL3ogcTm2')"
   ]
  },
  {
   "cell_type": "code",
   "execution_count": null,
   "id": "175ca932",
   "metadata": {},
   "outputs": [],
   "source": [
    "#Data is imported and checked the variables\n",
    "df5 = pd.read_csv(\"C:/Users/merye/Anaconda3/Datasets/World_Happiness/2015.csv\", sep =',') \n",
    "df6= pd.read_csv(\"C:/Users/merye/Anaconda3/Datasets/World_Happiness/2016.csv\", sep =',')\n",
    "df7= pd.read_csv(\"C:/Users/merye/Anaconda3/Datasets/World_Happiness/2017.csv\", sep =',')\n",
    "#frames = [df5, df6, df7]\n",
    "#df = pd.concat(frames)\n",
    "df7.head() #See 5 head values of data "
   ]
  },
  {
   "cell_type": "code",
   "execution_count": null,
   "id": "a5ea8dd0",
   "metadata": {},
   "outputs": [],
   "source": [
    "#Check last 5 values of the data \n",
    "df7.tail()\n"
   ]
  },
  {
   "cell_type": "code",
   "execution_count": null,
   "id": "21966d0a",
   "metadata": {},
   "outputs": [],
   "source": [
    "#Checking the data types for each column \n",
    "df7.info()"
   ]
  },
  {
   "cell_type": "code",
   "execution_count": null,
   "id": "d83aa171",
   "metadata": {},
   "outputs": [],
   "source": [
    "<class 'pandas.core.frame.DataFrame'>\n",
    "RangeIndex: 155 entries, 0 to 154\n",
    "Data columns (total 12 columns):\n",
    "Country                          155 non-null object\n",
    "Happiness.Rank                   155 non-null int64\n",
    "Happiness.Score                  155 non-null float64\n",
    "Whisker.high                     155 non-null float64\n",
    "Whisker.low                      155 non-null float64\n",
    "Economy..GDP.per.Capita.         155 non-null float64\n",
    "Family                           155 non-null float64\n",
    "Health..Life.Expectancy.         155 non-null float64\n",
    "Freedom                          155 non-null float64\n",
    "Generosity                       155 non-null float64\n",
    "Trust..Government.Corruption.    155 non-null float64\n",
    "Dystopia.Residual                155 non-null float64\n",
    "dtypes: float64(10), int64(1), object(1)\n",
    "memory usage: 14.6+ KB\n",
    "Most of our values are in float type, only Country is object and Ranking is integer."
   ]
  },
  {
   "cell_type": "code",
   "execution_count": null,
   "id": "09724bda",
   "metadata": {},
   "outputs": [],
   "source": [
    "#As we have long column names, i will change some of them \n",
    "df=df7.rename(columns = {'Happiness.Rank':'Happ.Rank', 'Happiness.Score':'Happ.Score', 'Economy..GDP.per.Capita.':'GDP', \n",
    "                     'Health..Life.Expectancy.':'Life.Expect','Trust..Government.Corruption.':'Trust.to.Gov', 'Dystopia.Residual':'Dystop.Res'})\n",
    "df.head()"
   ]
  },
  {
   "cell_type": "code",
   "execution_count": null,
   "id": "73e796db",
   "metadata": {},
   "outputs": [],
   "source": [
    "#Checking if we have any NA value\n",
    "df.isnull().values.any()"
   ]
  },
  {
   "cell_type": "code",
   "execution_count": null,
   "id": "05abe599",
   "metadata": {},
   "outputs": [],
   "source": [
    "False\n",
    "Our 2017 data has no \"null\" value."
   ]
  },
  {
   "cell_type": "code",
   "execution_count": null,
   "id": "8e8f46af",
   "metadata": {},
   "outputs": [],
   "source": [
    "#Statistical values for all numeric variables as count, max, mean and quantiles\n",
    "df.describe()"
   ]
  },
  {
   "cell_type": "markdown",
   "id": "e465d84e",
   "metadata": {},
   "source": [
    "Part II. Visualization¶"
   ]
  },
  {
   "cell_type": "code",
   "execution_count": null,
   "id": "4179a11f",
   "metadata": {},
   "outputs": [],
   "source": [
    "#Let's check all columns by pair plot \n",
    "import seaborn as sns; sns.set(style=\"ticks\", color_codes=True)\n",
    "g = sns.pairplot(df, kind=\"reg\")"
   ]
  },
  {
   "cell_type": "code",
   "execution_count": null,
   "id": "1a413831",
   "metadata": {},
   "outputs": [],
   "source": [
    "Scatterplots show possible associations or relationships between two variables. I wanted to see each variable positive and negative relationships, uphill lines are showing positive, downhill lines are negative relationships. In above plots are showing that we have weaker, stronger relationships. To quantify the strength of a linear (straight) relationship, we will use a correlation analysis"
   ]
  },
  {
   "cell_type": "code",
   "execution_count": null,
   "id": "fc4d331a",
   "metadata": {},
   "outputs": [],
   "source": [
    "#Check correlation of each values \n",
    "corrmat = df.corr()\n",
    "sns.heatmap(corrmat, vmax=.8, square=True)"
   ]
  },
  {
   "cell_type": "code",
   "execution_count": null,
   "id": "98161799",
   "metadata": {},
   "outputs": [],
   "source": [
    "<matplotlib.axes._subplots.AxesSubplot at 0x185e80b88d0>\n",
    "\n",
    "Above 2 graphs are showing us how is the correlation between each variable, we will concentrate the highly correlated variables. Happiness Rank and Happiness Score have negative correlation, while Happiness Score is increasing, Ranking is going to decrease (1 is the top, 155 is the last ranking). Therefore, we will analyze Happiness Score relations with GDP, Life Expectations, Freedom and Trust to Government Corruption as these values are highly correlated to each other. GDP is the main factor which is effecting others as Family, Life Expectations and Freedom."
   ]
  },
  {
   "cell_type": "code",
   "execution_count": null,
   "id": "598cdb62",
   "metadata": {},
   "outputs": [],
   "source": [
    "#let's check highly correlated columns separately \n",
    "\n",
    "%config InlineBackend.figure_format = 'retina'\n",
    "\n",
    "plt.figure(figsize=(16, 10))\n",
    "for i, key in enumerate(['GDP', 'Family', 'Life.Expect', 'Freedom', 'Trust.to.Gov']):\n",
    "    plt.subplot(2, 3, i+1)\n",
    "    plt.xlabel(key)\n",
    "    plt.scatter(df[key], df['Happ.Score'], alpha=0.5)"
   ]
  },
  {
   "cell_type": "code",
   "execution_count": null,
   "id": "23c351ee",
   "metadata": {},
   "outputs": [],
   "source": [
    "#I wanted to see happiness score distribution on the world map for 2017 results\n",
    "import plotly.graph_objs as go\n",
    "from plotly.offline import download_plotlyjs, init_notebook_mode, plot, iplot #loading necessary libraries for mapping\n",
    "init_notebook_mode(connected=True)\n",
    "\n",
    "data = dict(type = 'choropleth', #As we have only country names in data, we can use country names to see the happiness\n",
    "           locations = df['Country'],\n",
    "           locationmode = 'country names',\n",
    "           z = df['Happ.Score'], \n",
    "           text = df['Country'],\n",
    "           colorbar = {'title':'Happiness'})\n",
    "layout = dict(title = 'Global Happiness 2017', \n",
    "             geo = dict(showframe = False, \n",
    "                       projection = {'type': 'Mercator'}))\n",
    "choromap3 = go.Figure(data = [data], layout=layout)\n",
    "iplot(choromap3) "
   ]
  },
  {
   "cell_type": "code",
   "execution_count": null,
   "id": "f393b090",
   "metadata": {},
   "outputs": [],
   "source": [
    "#Let's check head for 2015 \n",
    "df5.head()"
   ]
  },
  {
   "cell_type": "code",
   "execution_count": null,
   "id": "2db8929b",
   "metadata": {},
   "outputs": [],
   "source": [
    "#Last 5 countries in the list \n",
    "df5.tail()"
   ]
  },
  {
   "cell_type": "code",
   "execution_count": null,
   "id": "187a2d56",
   "metadata": {},
   "outputs": [],
   "source": [
    "import plotly.graph_objs as go\n",
    "from plotly.offline import download_plotlyjs, init_notebook_mode, plot, iplot\n",
    "init_notebook_mode(connected=True)\n",
    "\n",
    "data = dict(type = 'choropleth', \n",
    "           locations = df5['Country'],\n",
    "           locationmode = 'country names',\n",
    "           z = df5['Happiness Score'], \n",
    "           text = df5['Country'],\n",
    "           colorbar = {'title':'Happiness'})\n",
    "layout = dict(title = 'Global Happiness 2015', \n",
    "             geo = dict(showframe = False, \n",
    "                       projection = {'type': 'Mercator'}))\n",
    "choromap3 = go.Figure(data = [data], layout=layout)\n",
    "iplot(choromap3)"
   ]
  },
  {
   "cell_type": "code",
   "execution_count": null,
   "id": "0b39a55d",
   "metadata": {},
   "outputs": [],
   "source": [
    "#2017 10 Happiest Countries \n",
    "dfl= df.groupby(['Country'], sort=False)['Happ.Score'].max().head(10) #I wanted to see top 10 Happy Countries\n",
    "dfl"
   ]
  },
  {
   "cell_type": "code",
   "execution_count": null,
   "id": "23307a39",
   "metadata": {},
   "outputs": [],
   "source": [
    "#2015 10 Happiest Countries\n",
    "dfh = df5.groupby(['Country'], sort=False)['Happiness Score'].max().head(10)\n",
    "dfh"
   ]
  },
  {
   "cell_type": "markdown",
   "id": "2c2e5848",
   "metadata": {},
   "source": [
    "Part III. Conclusion\n",
    "Above analysis are showing that there is no single factor which can explain the happiness of people. Factors such as GDP, family, income inequality, the degree of peace and corruption have important role on happiness. This suggests that when we analyze the happiness, we should consider all factors together.\n",
    "\n",
    "We know very well that money does not buy happiness by itself but it provides the other factors to be happier as healthier life, trustable government, freedom to make life choices and freedom from corruption, income inequality and levels of peace. GDP is like a catalyzer which is effecting most of the factors.\n",
    "\n",
    "Happiness isn't just about money, although it's part of it.\n",
    "\n",
    "\"As demonstrated by many countries, this report gives evidence that happiness is a result of creating strong social foundations. It's time to build social trust and healthy lives, not guns or walls. Let's hold our leaders to this fact.\"\n",
    "\n",
    "Future is exciting for developed countries as they are working in new technologies, Artificial Intelligence, Electrical Cars, Internet of Things and most of them are ready for climate changes in next decades. Developed countries are investing for clean energy, agricultural sciences and cleaning the air from pollutants. They will surely be the best survived countries against climate changes. We can easily conclude that developed countries will keep their happiness and life standards in future.\n",
    "\n",
    "On the other hand, poor and unhappy countries will be worsen day after day as they have limited resources, high and not educated population and wars, their future is very dark. Climate change will show the effects very fastly in near future, this will be faster than expected. Afterwards, world will have 2 type of countries, very low standard countries and very high. There will not be middle level country. If this will continue in this way, developed countries will be effected indirectly. We will see more refugees around the developed countries, more wars for the limited sources as oil, clean water and food. Polulation is increasing uncontrollably, especially in Far East Countries as India, China and Indonesia. Air pollution is another big problem of the world and these crowded countries have the most polluted air, they are over the limits.\n",
    "\n",
    "To sum up, I can not draw an optimistic table at the end with all these results and conditions. Developed countries will keep their status and they will be more happy than the rest of the world. Unhappy countries score will not increase with these circumstances, even their score will decrease every year. Happiness have several factors, GDP is the powerful factor but not the only one. I wish we could have a better world in future but i am afraid this will not happen."
   ]
  },
  {
   "cell_type": "code",
   "execution_count": null,
   "id": "7c1dac14",
   "metadata": {},
   "outputs": [],
   "source": []
  }
 ],
 "metadata": {
  "kernelspec": {
   "display_name": "Python 3 (ipykernel)",
   "language": "python",
   "name": "python3"
  },
  "language_info": {
   "codemirror_mode": {
    "name": "ipython",
    "version": 3
   },
   "file_extension": ".py",
   "mimetype": "text/x-python",
   "name": "python",
   "nbconvert_exporter": "python",
   "pygments_lexer": "ipython3",
   "version": "3.11.4"
  }
 },
 "nbformat": 4,
 "nbformat_minor": 5
}
