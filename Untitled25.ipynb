{
 "cells": [
  {
   "cell_type": "markdown",
   "id": "685417c3",
   "metadata": {},
   "source": [
    "# Titanic survived Project"
   ]
  },
  {
   "cell_type": "markdown",
   "id": "656093d7",
   "metadata": {},
   "source": [
    "Project Description\n",
    "The Titanic Problem is based on the sinking of the ‘Unsinkable’ ship Titanic in early 1912. It gives you information about multiple people like their ages, sexes, sibling counts, embarkment points, and whether or not they survived the disaster. \n",
    "Based on these features, you have to predict if an arbitrary passenger on Titanic would survive the sinking or not. \n",
    "\n",
    "Attribute Information\n",
    "Passenger id- Unique Id of the passenger\n",
    "Pclass- Passenger Class (1 = 1st; 2 = 2nd; 3 = 3rd)\n",
    "Survived- Survived (0 = No; 1 = Yes)\n",
    "Name- Name of the passenger\n",
    "Sex- Sex of the passenger (Male, Female)\n",
    "Age- Age of the passenger\n",
    "Sibsp- Number of Siblings/Spouses Aboard\n",
    "Parch- Number of Parents/Children Aboard\n",
    "Ticket- Ticket Number\n",
    "Fare- Passenger Fare (British pound)\n",
    "Cabin- Cabin\n",
    "Embarked- Port of Embarkation (C = Cherbourg; Q = Queenstown; S = Southampton)\n",
    "\n",
    "Dataset Link-\n",
    "https://github.com/FlipRoboTechnologies/ML-Datasets/blob/main/Titanic/titanic_train.csv\n"
   ]
  },
  {
   "cell_type": "code",
   "execution_count": null,
   "id": "9f84267f",
   "metadata": {},
   "outputs": [],
   "source": [
    "import numpy as np\n",
    "import pandas as pd \n",
    "import matplotlib.pyplot as plt"
   ]
  },
  {
   "cell_type": "code",
   "execution_count": null,
   "id": "4e07da09",
   "metadata": {},
   "outputs": [],
   "source": [
    "titanic_data = pd.read_csv('data/train.csv')"
   ]
  },
  {
   "cell_type": "code",
   "execution_count": null,
   "id": "4d92e16d",
   "metadata": {},
   "outputs": [],
   "source": [
    "titanic_data"
   ]
  },
  {
   "cell_type": "code",
   "execution_count": null,
   "id": "a4db204c",
   "metadata": {},
   "outputs": [],
   "source": [
    "import seaborn as sns\n",
    "\n",
    "sns.heatmap(titanic_data_corr(), cmap=\"YlGnBU\")\n",
    "plt.show()"
   ]
  },
  {
   "cell_type": "code",
   "execution_count": null,
   "id": "ac2d3eaa",
   "metadata": {},
   "outputs": [],
   "source": [
    "from sklearn.model_selection import StratifiedShuffleSplit\n",
    "\n",
    "split = StratifiedShuffleSplit(n_splits=l, test_size=0.2)\n",
    "for train_indices, test_indices in split.split(titanic_data,titanic_data[[\"Survived\", \"Pclass\", \"Sex\"]]):\n",
    "    strat_train_set = titanic_data.loc[train_indices]\n",
    "    strat_test_set = titanic_data.loc[test_indices]\n",
    "    "
   ]
  },
  {
   "cell_type": "code",
   "execution_count": null,
   "id": "473cab2f",
   "metadata": {},
   "outputs": [],
   "source": [
    "plt.subplot(1,2,1)\n",
    "strat_train_set['Survived'].hist()\n",
    "strat_train_set['Pclass'].hist()\n",
    "\n",
    "plt.subplot(1,2,2)\n",
    "strat_test_set['Survived'].hist()\n",
    "strat_test_set['pclass'].hist()\n",
    "\n",
    "plt.show()"
   ]
  },
  {
   "cell_type": "code",
   "execution_count": null,
   "id": "1ebad76e",
   "metadata": {},
   "outputs": [],
   "source": [
    "strat_train_set.info()\n"
   ]
  },
  {
   "cell_type": "code",
   "execution_count": null,
   "id": "a1e45407",
   "metadata": {},
   "outputs": [],
   "source": [
    "from sklearn.base import BaseEstimator,TransformerMixin\n",
    "from sklearn.impute import SimpleImputer\n",
    "\n",
    "class AgeImputer(BaseEstimator,TransformerMixin):\n",
    "    \n",
    "    def fit(self,X, y=None):\n",
    "        return self \n",
    "    \n",
    "    def transform(self, X):\n",
    "        imputer = SimpleImputer(strategy=\"mean\")\n",
    "        X['Age'] = imputer.fit_transform(X[['Age']])\n",
    "        return X"
   ]
  },
  {
   "cell_type": "code",
   "execution_count": null,
   "id": "30e3dafa",
   "metadata": {},
   "outputs": [],
   "source": [
    "from sklearn.preprocessing import OneHotEncoder\n",
    "\n",
    "class FeatureEncoder(BaseEstimator,TransformerMixin):\n",
    "    \n",
    "    def fit(self,X y=None):\n",
    "        return self \n",
    "    \n",
    "    def transform(self,X):\n",
    "        encoder = OneHotEncoder()\n",
    "        matrix = encoder.fit_transform(X[['Embarked']]).toarray()\n",
    "        \n",
    "        column_names = [\"C\",\"S\",\"Q\",\"N\"]\n",
    "        \n",
    "        for i in range(len(matrix.T)):\n",
    "            X[column_names[i]]= matrix.T[i]\n",
    "            \n",
    "            matrix = encoder.fit_transform(X[['Sex']]).toarray()\n",
    "            \n",
    "            column_names = [\"Female\",\"Male\"]\n",
    "            \n",
    "            for i in range(len(matrix.T)):\n",
    "                X[column_names[i]] = matix.T[i]\n",
    "                \n",
    "                rteturn X"
   ]
  },
  {
   "cell_type": "code",
   "execution_count": null,
   "id": "35587a55",
   "metadata": {},
   "outputs": [],
   "source": [
    "class FeatureDropper(BaseEstimator, Transformermixin):\n",
    "    \n",
    "    def fit(self, X, y=None):\n",
    "        return self\n",
    "    \n",
    "    def transform(self, X):\n",
    "        return X.drop([\"Embarked\", \"Name\", \"Ticket\",\"Cabin\", \"Sex\", \"N\"], axis=1, errors=\"ignore\")\n",
    "    "
   ]
  },
  {
   "cell_type": "code",
   "execution_count": null,
   "id": "9a0107f6",
   "metadata": {},
   "outputs": [],
   "source": [
    "from sklearn.pipeline import Pipeline\n",
    "\n",
    "pipeline = Pipeline(\"ageimputer\", AgeImputer()),\n",
    "                   (\"featureencoder\", FeatureEncoder()),\n",
    "                   (\"feauturedropper\", FeatureDropper())])"
   ]
  },
  {
   "cell_type": "code",
   "execution_count": null,
   "id": "a7ef7928",
   "metadata": {},
   "outputs": [],
   "source": [
    "strat_train_set = pipeline,fit_transform(strat_train_set)"
   ]
  },
  {
   "cell_type": "code",
   "execution_count": null,
   "id": "cd03c55a",
   "metadata": {},
   "outputs": [],
   "source": [
    "strat_train_set"
   ]
  },
  {
   "cell_type": "code",
   "execution_count": null,
   "id": "8876df8e",
   "metadata": {},
   "outputs": [],
   "source": [
    "strat_train_set.info()"
   ]
  },
  {
   "cell_type": "code",
   "execution_count": null,
   "id": "5923dcec",
   "metadata": {},
   "outputs": [],
   "source": [
    "from sklearn.preprocessing import StandardScaler\n",
    "\n",
    "X = strat_train_set.drop(['Survived'],axis=1)\n",
    "Y = strat_train_set['Survived']\n",
    "\n",
    "scaler = StandardScaler()\n",
    "X_data = scaler.fit_transform(X)\n",
    "y_data = y.to_numpy()"
   ]
  },
  {
   "cell_type": "code",
   "execution_count": null,
   "id": "b06e7c46",
   "metadata": {},
   "outputs": [],
   "source": [
    "from sklearn.ensamble import RandomforestClassifier\n",
    "from Sklearn.model_selection import GridSearchCV\n",
    "\n",
    "clf = RandomForestclassifier()\n",
    "\n",
    "param_grid= [\n",
    "      {\"n_estimators\": [10, 100, 200, 500], \"max_depth\":[None, 5, 10] ,\"min_samples_split\": [2.,3,4]}\n",
    "]\n",
    "\n",
    "grid_search = GridSearchCV(clf, param_grid, cv=3, scoring=\"accuracy\",return_train_score=True)\n",
    "grid_search.fit(X_data, y_data)"
   ]
  },
  {
   "cell_type": "code",
   "execution_count": null,
   "id": "da00d0c5",
   "metadata": {},
   "outputs": [],
   "source": [
    "GridSearchCV(cv=3, estimator=RandomForestClassifier(),\n",
    "             param_grid=[{'max_depth':[None,5, 10],\n",
    "                          'min_samples_split':[2,3,4],\n",
    "                          'n_estimators':[10,100,200,500]}]\n",
    "             return_train_score=True, scoring='accuracy')\n",
    "                          "
   ]
  },
  {
   "cell_type": "code",
   "execution_count": null,
   "id": "d85e229b",
   "metadata": {},
   "outputs": [],
   "source": [
    "final_clf = grid_search.best_estimator_"
   ]
  },
  {
   "cell_type": "code",
   "execution_count": null,
   "id": "191a2771",
   "metadata": {},
   "outputs": [],
   "source": [
    "final_clf"
   ]
  },
  {
   "cell_type": "code",
   "execution_count": null,
   "id": "236a0840",
   "metadata": {},
   "outputs": [],
   "source": [
    "RandomForstClassifier(max_depth=5, n_estimators=500)\n"
   ]
  },
  {
   "cell_type": "code",
   "execution_count": null,
   "id": "3c5de5aa",
   "metadata": {},
   "outputs": [],
   "source": [
    "strat_test_set = pipeline.fit_transform(strat_test_set)\n"
   ]
  },
  {
   "cell_type": "code",
   "execution_count": null,
   "id": "acffeb25",
   "metadata": {},
   "outputs": [],
   "source": [
    "X_test = strat_test_set.drop('Survived'), axis=1)\n",
    "Y_test = strat_test_set['Survived']\n",
    "\n",
    "sclaer = Standardsclaer\n",
    "X_data_test = slacer.fit_transform(X_test)\n",
    "Y_data_test = y_test.to_numpy()\n"
   ]
  },
  {
   "cell_type": "code",
   "execution_count": null,
   "id": "f74878d3",
   "metadata": {},
   "outputs": [],
   "source": [
    "final_clf.score(X_data_test, Y_data_test"
   ]
  },
  {
   "cell_type": "code",
   "execution_count": null,
   "id": "6f610d6b",
   "metadata": {},
   "outputs": [],
   "source": [
    "final_data = pipeline.fit_transform(titanic_data)"
   ]
  },
  {
   "cell_type": "code",
   "execution_count": null,
   "id": "f89c880c",
   "metadata": {},
   "outputs": [],
   "source": [
    "final_data"
   ]
  },
  {
   "cell_type": "code",
   "execution_count": null,
   "id": "847f58ac",
   "metadata": {},
   "outputs": [],
   "source": [
    "X_final = final_data.drop(['Survived']), axis=1)\n",
    "Y_final = final_data['Survived']\n",
    "\n",
    "scaler = StandardScaler()\n",
    "X_data_final = scaler.fit_transform(X_final)\n",
    "y_data_final = y_final.to_numpy()\n"
   ]
  },
  {
   "cell_type": "code",
   "execution_count": null,
   "id": "f787b5bc",
   "metadata": {},
   "outputs": [],
   "source": [
    "prod_clf = RandomForestClassifier()\n",
    "\n",
    "param_grid = [\n",
    "    {\"n_estimators\": [10,100,200,500], \"max_depth\":[None,5,10], \"min_samples_split\":[2,3,4,]}\n",
    " ]\n",
    "\n",
    "grid_search = GridSearchCV(prod_clf, param_grid, cv=3, scoring=\"accuracy\", return_train_score=True)\n",
    "grid_search.fit(X_data_final,y_data_final)\n"
   ]
  },
  {
   "cell_type": "code",
   "execution_count": null,
   "id": "b5ba92ff",
   "metadata": {},
   "outputs": [],
   "source": [
    "GridsearchCV(cv=3, estoimator=RandomForestClassifier()\n",
    "             param_grid=[{'max_depth: [None,5,10],\n",
    "                         'min_samples_split':[2,3,4],\n",
    "                          'n_estimators':[10,100,200,500]}]\n",
    "             return_train_score=True, scoring='accuracy')\n"
   ]
  },
  {
   "cell_type": "code",
   "execution_count": null,
   "id": "5bf5f5ba",
   "metadata": {},
   "outputs": [],
   "source": [
    "prod_final_clf = grid_search.best_estimator_"
   ]
  },
  {
   "cell_type": "code",
   "execution_count": null,
   "id": "57877839",
   "metadata": {},
   "outputs": [],
   "source": [
    "titanic_test_data = pd.read_csv(\"data/test.csv\")"
   ]
  },
  {
   "cell_type": "code",
   "execution_count": null,
   "id": "c05ea064",
   "metadata": {},
   "outputs": [],
   "source": [
    "RandomForestClassifier(max_depth=5, min_samples_split=3)"
   ]
  }
 ],
 "metadata": {
  "kernelspec": {
   "display_name": "Python 3 (ipykernel)",
   "language": "python",
   "name": "python3"
  },
  "language_info": {
   "codemirror_mode": {
    "name": "ipython",
    "version": 3
   },
   "file_extension": ".py",
   "mimetype": "text/x-python",
   "name": "python",
   "nbconvert_exporter": "python",
   "pygments_lexer": "ipython3",
   "version": "3.11.4"
  }
 },
 "nbformat": 4,
 "nbformat_minor": 5
}
